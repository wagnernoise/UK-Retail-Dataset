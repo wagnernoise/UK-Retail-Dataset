{
 "cells": [
  {
   "cell_type": "markdown",
   "metadata": {},
   "source": [
    "# UK Retail dataset"
   ]
  },
  {
   "cell_type": "markdown",
   "metadata": {},
   "source": [
    "Here we will focus on prediction engineering. Prediction engineering is a step in predictive modeling where we: \n",
    "* Define an outome we are interested in predicting \n",
    "* Scan the data to find the past occurences of the outcome \n",
    "* Make these past occurences training examples for machine learning/modeling\n",
    "\n",
    "We will then use featuretools to extract features and learn a predictive model.\n",
    "In this particular casestudy, we are focusing a retail dataset openly available at http://archive.ics.uci.edu/ml/datasets/online+retail\n",
    "We will define the prediction problem as the one where the customer has more than k purchases"
   ]
  },
  {
   "cell_type": "code",
   "execution_count": 27,
   "metadata": {},
   "outputs": [
    {
     "data": {
      "text/plain": [
       "'0.9.1'"
      ]
     },
     "execution_count": 27,
     "metadata": {},
     "output_type": "execute_result"
    }
   ],
   "source": [
    "import featuretools as ft\n",
    "import pandas as pd\n",
    "from sklearn.model_selection import train_test_split\n",
    "from sklearn.preprocessing import Imputer\n",
    "from sklearn.ensemble import RandomForestClassifier\n",
    "from sklearn.metrics import confusion_matrix\n",
    "ft.__version__"
   ]
  },
  {
   "cell_type": "markdown",
   "metadata": {},
   "source": [
    "## Loading the data"
   ]
  },
  {
   "cell_type": "markdown",
   "metadata": {},
   "source": [
    "Taking a sneak peak to one of the 'csv' files to see its structure"
   ]
  },
  {
   "cell_type": "code",
   "execution_count": 29,
   "metadata": {},
   "outputs": [],
   "source": [
    "# Function to read and format the data inside the csv files\n",
    "def load_uk_retail_data():\n",
    "    item_purchases = pd.read_csv('Data/item_purchases.csv', encoding = 'unicode_escape')\n",
    "    invoices = pd.read_csv('Data/invoices.csv', encoding = 'unicode_escape') \n",
    "    items = pd.read_csv('Data/items.csv', encoding = 'unicode_escape')\n",
    "    customers = pd.read_csv('Data/customers.csv', encoding = 'unicode_escape')\n",
    "    invoices['first_item_purchases_time'] = pd.to_datetime(\n",
    "        invoices['first_item_purchases_time'], format=\"%m/%d/%y %H:%M\")\n",
    "    item_purchases['InvoiceDate'] = pd.to_datetime(\n",
    "        item_purchases['InvoiceDate'], format=\"%m/%d/%y %H:%M\")\n",
    "    customers['first_invoices_time'] = pd.to_datetime(\n",
    "        customers['first_invoices_time'], format=\"%m/%d/%y %H:%M\")\n",
    "    items['first_item_purchases_time'] = pd.to_datetime(\n",
    "        items['first_item_purchases_time'], format=\"%m/%d/%y %H:%M\")\n",
    "    return item_purchases, invoices, items, customers"
   ]
  },
  {
   "cell_type": "code",
   "execution_count": 30,
   "metadata": {},
   "outputs": [],
   "source": [
    "item_purchases, invoices, items, customers = load_uk_retail_data()"
   ]
  },
  {
   "cell_type": "code",
   "execution_count": 31,
   "metadata": {},
   "outputs": [
    {
     "data": {
      "text/html": [
       "<div>\n",
       "<style scoped>\n",
       "    .dataframe tbody tr th:only-of-type {\n",
       "        vertical-align: middle;\n",
       "    }\n",
       "\n",
       "    .dataframe tbody tr th {\n",
       "        vertical-align: top;\n",
       "    }\n",
       "\n",
       "    .dataframe thead th {\n",
       "        text-align: right;\n",
       "    }\n",
       "</style>\n",
       "<table border=\"1\" class=\"dataframe\">\n",
       "  <thead>\n",
       "    <tr style=\"text-align: right;\">\n",
       "      <th></th>\n",
       "      <th>InvoiceNo</th>\n",
       "      <th>CustomerID</th>\n",
       "      <th>first_item_purchases_time</th>\n",
       "    </tr>\n",
       "  </thead>\n",
       "  <tbody>\n",
       "    <tr>\n",
       "      <td>0</td>\n",
       "      <td>536365</td>\n",
       "      <td>17850.0</td>\n",
       "      <td>12/1/10 8:26</td>\n",
       "    </tr>\n",
       "    <tr>\n",
       "      <td>1</td>\n",
       "      <td>536366</td>\n",
       "      <td>17850.0</td>\n",
       "      <td>12/1/10 8:28</td>\n",
       "    </tr>\n",
       "    <tr>\n",
       "      <td>2</td>\n",
       "      <td>536367</td>\n",
       "      <td>13047.0</td>\n",
       "      <td>12/1/10 8:34</td>\n",
       "    </tr>\n",
       "    <tr>\n",
       "      <td>3</td>\n",
       "      <td>536368</td>\n",
       "      <td>13047.0</td>\n",
       "      <td>12/1/10 8:34</td>\n",
       "    </tr>\n",
       "    <tr>\n",
       "      <td>4</td>\n",
       "      <td>536369</td>\n",
       "      <td>13047.0</td>\n",
       "      <td>12/1/10 8:35</td>\n",
       "    </tr>\n",
       "  </tbody>\n",
       "</table>\n",
       "</div>"
      ],
      "text/plain": [
       "  InvoiceNo  CustomerID first_item_purchases_time\n",
       "0    536365     17850.0              12/1/10 8:26\n",
       "1    536366     17850.0              12/1/10 8:28\n",
       "2    536367     13047.0              12/1/10 8:34\n",
       "3    536368     13047.0              12/1/10 8:34\n",
       "4    536369     13047.0              12/1/10 8:35"
      ]
     },
     "execution_count": 31,
     "metadata": {},
     "output_type": "execute_result"
    }
   ],
   "source": [
    "invoices = pd.read_csv('Data/invoices.csv', encoding = 'unicode_escape') \n",
    "# In order to avoid utf-8 codec error, the encoding should be set when reading the csv file\n",
    "invoices.head()"
   ]
  },
  {
   "cell_type": "code",
   "execution_count": 52,
   "metadata": {},
   "outputs": [
    {
     "data": {
      "text/html": [
       "<div>\n",
       "<style scoped>\n",
       "    .dataframe tbody tr th:only-of-type {\n",
       "        vertical-align: middle;\n",
       "    }\n",
       "\n",
       "    .dataframe tbody tr th {\n",
       "        vertical-align: top;\n",
       "    }\n",
       "\n",
       "    .dataframe thead th {\n",
       "        text-align: right;\n",
       "    }\n",
       "</style>\n",
       "<table border=\"1\" class=\"dataframe\">\n",
       "  <thead>\n",
       "    <tr style=\"text-align: right;\">\n",
       "      <th></th>\n",
       "      <th>item_purchase_id</th>\n",
       "      <th>InvoiceNo</th>\n",
       "      <th>StockCode</th>\n",
       "      <th>Quantity</th>\n",
       "      <th>InvoiceDate</th>\n",
       "      <th>UnitPrice</th>\n",
       "    </tr>\n",
       "  </thead>\n",
       "  <tbody>\n",
       "    <tr>\n",
       "      <td>0</td>\n",
       "      <td>0</td>\n",
       "      <td>536365</td>\n",
       "      <td>85123A</td>\n",
       "      <td>6</td>\n",
       "      <td>2010-12-01 08:26:00</td>\n",
       "      <td>2.55</td>\n",
       "    </tr>\n",
       "    <tr>\n",
       "      <td>1</td>\n",
       "      <td>1</td>\n",
       "      <td>536365</td>\n",
       "      <td>71053</td>\n",
       "      <td>6</td>\n",
       "      <td>2010-12-01 08:26:00</td>\n",
       "      <td>3.39</td>\n",
       "    </tr>\n",
       "    <tr>\n",
       "      <td>2</td>\n",
       "      <td>2</td>\n",
       "      <td>536365</td>\n",
       "      <td>84406B</td>\n",
       "      <td>8</td>\n",
       "      <td>2010-12-01 08:26:00</td>\n",
       "      <td>2.75</td>\n",
       "    </tr>\n",
       "    <tr>\n",
       "      <td>3</td>\n",
       "      <td>3</td>\n",
       "      <td>536365</td>\n",
       "      <td>84029G</td>\n",
       "      <td>6</td>\n",
       "      <td>2010-12-01 08:26:00</td>\n",
       "      <td>3.39</td>\n",
       "    </tr>\n",
       "    <tr>\n",
       "      <td>4</td>\n",
       "      <td>4</td>\n",
       "      <td>536365</td>\n",
       "      <td>84029E</td>\n",
       "      <td>6</td>\n",
       "      <td>2010-12-01 08:26:00</td>\n",
       "      <td>3.39</td>\n",
       "    </tr>\n",
       "  </tbody>\n",
       "</table>\n",
       "</div>"
      ],
      "text/plain": [
       "   item_purchase_id InvoiceNo StockCode  Quantity         InvoiceDate  \\\n",
       "0                 0    536365    85123A         6 2010-12-01 08:26:00   \n",
       "1                 1    536365     71053         6 2010-12-01 08:26:00   \n",
       "2                 2    536365    84406B         8 2010-12-01 08:26:00   \n",
       "3                 3    536365    84029G         6 2010-12-01 08:26:00   \n",
       "4                 4    536365    84029E         6 2010-12-01 08:26:00   \n",
       "\n",
       "   UnitPrice  \n",
       "0       2.55  \n",
       "1       3.39  \n",
       "2       2.75  \n",
       "3       3.39  \n",
       "4       3.39  "
      ]
     },
     "execution_count": 52,
     "metadata": {},
     "output_type": "execute_result"
    }
   ],
   "source": [
    "item_purchases.head()"
   ]
  },
  {
   "cell_type": "code",
   "execution_count": 54,
   "metadata": {},
   "outputs": [
    {
     "data": {
      "text/html": [
       "<div>\n",
       "<style scoped>\n",
       "    .dataframe tbody tr th:only-of-type {\n",
       "        vertical-align: middle;\n",
       "    }\n",
       "\n",
       "    .dataframe tbody tr th {\n",
       "        vertical-align: top;\n",
       "    }\n",
       "\n",
       "    .dataframe thead th {\n",
       "        text-align: right;\n",
       "    }\n",
       "</style>\n",
       "<table border=\"1\" class=\"dataframe\">\n",
       "  <thead>\n",
       "    <tr style=\"text-align: right;\">\n",
       "      <th></th>\n",
       "      <th>StockCode</th>\n",
       "      <th>Description</th>\n",
       "      <th>first_item_purchases_time</th>\n",
       "    </tr>\n",
       "  </thead>\n",
       "  <tbody>\n",
       "    <tr>\n",
       "      <td>0</td>\n",
       "      <td>21730</td>\n",
       "      <td>GLASS STAR FROSTED T-LIGHT HOLDER</td>\n",
       "      <td>2010-12-01 08:26:00</td>\n",
       "    </tr>\n",
       "    <tr>\n",
       "      <td>1</td>\n",
       "      <td>22752</td>\n",
       "      <td>SET 7 BABUSHKA NESTING BOXES</td>\n",
       "      <td>2010-12-01 08:26:00</td>\n",
       "    </tr>\n",
       "    <tr>\n",
       "      <td>2</td>\n",
       "      <td>71053</td>\n",
       "      <td>WHITE METAL LANTERN</td>\n",
       "      <td>2010-12-01 08:26:00</td>\n",
       "    </tr>\n",
       "    <tr>\n",
       "      <td>3</td>\n",
       "      <td>84029E</td>\n",
       "      <td>RED WOOLLY HOTTIE WHITE HEART.</td>\n",
       "      <td>2010-12-01 08:26:00</td>\n",
       "    </tr>\n",
       "    <tr>\n",
       "      <td>4</td>\n",
       "      <td>84029G</td>\n",
       "      <td>KNITTED UNION FLAG HOT WATER BOTTLE</td>\n",
       "      <td>2010-12-01 08:26:00</td>\n",
       "    </tr>\n",
       "  </tbody>\n",
       "</table>\n",
       "</div>"
      ],
      "text/plain": [
       "  StockCode                          Description first_item_purchases_time\n",
       "0     21730    GLASS STAR FROSTED T-LIGHT HOLDER       2010-12-01 08:26:00\n",
       "1     22752         SET 7 BABUSHKA NESTING BOXES       2010-12-01 08:26:00\n",
       "2     71053                  WHITE METAL LANTERN       2010-12-01 08:26:00\n",
       "3    84029E       RED WOOLLY HOTTIE WHITE HEART.       2010-12-01 08:26:00\n",
       "4    84029G  KNITTED UNION FLAG HOT WATER BOTTLE       2010-12-01 08:26:00"
      ]
     },
     "execution_count": 54,
     "metadata": {},
     "output_type": "execute_result"
    }
   ],
   "source": [
    "items.head()"
   ]
  },
  {
   "cell_type": "code",
   "execution_count": 55,
   "metadata": {},
   "outputs": [
    {
     "data": {
      "text/html": [
       "<div>\n",
       "<style scoped>\n",
       "    .dataframe tbody tr th:only-of-type {\n",
       "        vertical-align: middle;\n",
       "    }\n",
       "\n",
       "    .dataframe tbody tr th {\n",
       "        vertical-align: top;\n",
       "    }\n",
       "\n",
       "    .dataframe thead th {\n",
       "        text-align: right;\n",
       "    }\n",
       "</style>\n",
       "<table border=\"1\" class=\"dataframe\">\n",
       "  <thead>\n",
       "    <tr style=\"text-align: right;\">\n",
       "      <th></th>\n",
       "      <th>CustomerID</th>\n",
       "      <th>Country</th>\n",
       "      <th>first_invoices_time</th>\n",
       "    </tr>\n",
       "  </thead>\n",
       "  <tbody>\n",
       "    <tr>\n",
       "      <td>0</td>\n",
       "      <td>17850.0</td>\n",
       "      <td>United Kingdom</td>\n",
       "      <td>2010-12-01 08:26:00</td>\n",
       "    </tr>\n",
       "    <tr>\n",
       "      <td>1</td>\n",
       "      <td>13047.0</td>\n",
       "      <td>United Kingdom</td>\n",
       "      <td>2010-12-01 08:34:00</td>\n",
       "    </tr>\n",
       "    <tr>\n",
       "      <td>2</td>\n",
       "      <td>12583.0</td>\n",
       "      <td>France</td>\n",
       "      <td>2010-12-01 08:45:00</td>\n",
       "    </tr>\n",
       "    <tr>\n",
       "      <td>3</td>\n",
       "      <td>13748.0</td>\n",
       "      <td>United Kingdom</td>\n",
       "      <td>2010-12-01 09:00:00</td>\n",
       "    </tr>\n",
       "    <tr>\n",
       "      <td>4</td>\n",
       "      <td>15100.0</td>\n",
       "      <td>United Kingdom</td>\n",
       "      <td>2010-12-01 09:09:00</td>\n",
       "    </tr>\n",
       "  </tbody>\n",
       "</table>\n",
       "</div>"
      ],
      "text/plain": [
       "   CustomerID         Country first_invoices_time\n",
       "0     17850.0  United Kingdom 2010-12-01 08:26:00\n",
       "1     13047.0  United Kingdom 2010-12-01 08:34:00\n",
       "2     12583.0          France 2010-12-01 08:45:00\n",
       "3     13748.0  United Kingdom 2010-12-01 09:00:00\n",
       "4     15100.0  United Kingdom 2010-12-01 09:09:00"
      ]
     },
     "execution_count": 55,
     "metadata": {},
     "output_type": "execute_result"
    }
   ],
   "source": [
    "customers.head()"
   ]
  },
  {
   "cell_type": "markdown",
   "metadata": {},
   "source": [
    "## Shape of the datasets"
   ]
  },
  {
   "cell_type": "code",
   "execution_count": 49,
   "metadata": {},
   "outputs": [
    {
     "name": "stdout",
     "output_type": "stream",
     "text": [
      "(541909, 6) (25900, 3) (4070, 3) (4373, 3)\n"
     ]
    }
   ],
   "source": [
    "print(item_purchases.shape, invoices.shape, items.shape, customers.shape)"
   ]
  },
  {
   "cell_type": "markdown",
   "metadata": {},
   "source": [
    "Now, let's see how many missing data we have for each one of the datasets"
   ]
  },
  {
   "cell_type": "code",
   "execution_count": 51,
   "metadata": {},
   "outputs": [
    {
     "name": "stdout",
     "output_type": "stream",
     "text": [
      "Number of missing data for: \n",
      "\"item_purchases\":\n",
      "item_purchase_id    0\n",
      "InvoiceNo           0\n",
      "StockCode           0\n",
      "Quantity            0\n",
      "InvoiceDate         0\n",
      "UnitPrice           0\n",
      "dtype: int64\n",
      "**************************************************\n",
      "Number of missing data for: \n",
      "\"invoices\":\n",
      "InvoiceNo                       0\n",
      "CustomerID                   3710\n",
      "first_item_purchases_time       0\n",
      "dtype: int64\n",
      "**************************************************\n",
      "Number of missing data for: \n",
      "\"items\":\n",
      "StockCode                      0\n",
      "Description                  176\n",
      "first_item_purchases_time      0\n",
      "dtype: int64\n",
      "**************************************************\n",
      "Number of missing data for: \n",
      "\"customers\":\n",
      "CustomerID             1\n",
      "Country                0\n",
      "first_invoices_time    0\n",
      "dtype: int64\n",
      "**************************************************\n"
     ]
    }
   ],
   "source": [
    "print(f'Number of missing data for: \\n\"item_purchases\":\\n{item_purchases.isna().sum()}')\n",
    "print('*'*50)\n",
    "print(f'Number of missing data for: \\n\"invoices\":\\n{invoices.isna().sum()}')\n",
    "print('*'*50)\n",
    "print(f'Number of missing data for: \\n\"items\":\\n{items.isna().sum()}')\n",
    "print('*'*50)\n",
    "print(f'Number of missing data for: \\n\"customers\":\\n{customers.isna().sum()}')\n",
    "print('*'*50)"
   ]
  },
  {
   "cell_type": "markdown",
   "metadata": {},
   "source": [
    "From our simple EDA, we already see that there are many missing values in the 'invoice' dataset. One can simply think on making those values equal to zero, however the number of missing entries are considerable and such approach can lead to a bad estimation or, even, a overfitting of a future model."
   ]
  },
  {
   "cell_type": "markdown",
   "metadata": {},
   "source": [
    "## Visualization"
   ]
  },
  {
   "cell_type": "code",
   "execution_count": 65,
   "metadata": {},
   "outputs": [
    {
     "data": {
      "text/plain": [
       "<BarContainer object of 4373 artists>"
      ]
     },
     "execution_count": 65,
     "metadata": {},
     "output_type": "execute_result"
    },
    {
     "data": {
      "image/png": "[encoded data removed]",
      "text/plain": [
       "<Figure size 432x288 with 2 Axes>"
      ]
     },
     "metadata": {
      "needs_background": "light"
     },
     "output_type": "display_data"
    }
   ],
   "source": [
    "import matplotlib\n",
    "from matplotlib import pyplot as plt\n",
    "%matplotlib inline\n",
    "\n",
    "fig, (ax1, ax2) = plt.subplots(2)\n",
    "fig.suptitle('First visualization')\n",
    "ax1.bar(item_purchases['InvoiceDate'], item_purchases['StockCode'])\n",
    "ax2.bar(customers['Country'], customers['CustomerID'])"
   ]
  },
  {
   "cell_type": "markdown",
   "metadata": {},
   "source": [
    "## Preparing the data"
   ]
  },
  {
   "cell_type": "code",
   "execution_count": null,
   "metadata": {},
   "outputs": [],
   "source": [
    "# Entities and relationships betwen the datasets to be enter as parameters into featuretools \n",
    "entities = {\n",
    "            \"item_purchases\": (item_purchases, \"item_purchase_id\", \"InvoiceDate\" ),\n",
    "            \"items\": (items, \"StockCode\"),\n",
    "            \"customers\": (customers,\"CustomerID\"),\n",
    "            \"invoices\":(invoices,\"InvoiceNo\", \"first_item_purchases_time\")\n",
    "            }\n",
    "relationships = [(\"customers\", \"CustomerID\",\"invoices\", \"CustomerID\"),\n",
    "                 (\"invoices\", \"InvoiceNo\",\"item_purchases\", \"InvoiceNo\"),\n",
    "                 (\"items\", \"StockCode\",\"item_purchases\", \"StockCode\")]"
   ]
  },
  {
   "cell_type": "code",
   "execution_count": null,
   "metadata": {},
   "outputs": [],
   "source": [
    "# To be used in the future...\n",
    "from sklearn.cluster import KMeans\n",
    "from sklearn.model_selection import train_test_split\n",
    "from sklearn.preprocessing import Imputer\n",
    "\n",
    "\n",
    "# set global random seed\n",
    "np.random.seed(40)"
   ]
  }
 ],
 "metadata": {
  "kernelspec": {
   "display_name": "Python 3",
   "language": "python",
   "name": "python3"
  },
  "language_info": {
   "codemirror_mode": {
    "name": "ipython",
    "version": 3
   },
   "file_extension": ".py",
   "mimetype": "text/x-python",
   "name": "python",
   "nbconvert_exporter": "python",
   "pygments_lexer": "ipython3",
   "version": "3.7.4"
  }
 },
 "nbformat": 4,
 "nbformat_minor": 4
}
